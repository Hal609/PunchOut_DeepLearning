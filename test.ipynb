{
 "cells": [
  {
   "cell_type": "code",
   "execution_count": 7,
   "metadata": {},
   "outputs": [
    {
     "data": {
      "text/plain": [
       "['00000011',\n",
       " '00000101',\n",
       " '00001001',\n",
       " '00010001',\n",
       " '00100001',\n",
       " '01000001',\n",
       " '10000001',\n",
       " '00000110',\n",
       " '00001010',\n",
       " '00010010',\n",
       " '00100010',\n",
       " '01000010',\n",
       " '10000010',\n",
       " '00001100',\n",
       " '00010100',\n",
       " '00100100',\n",
       " '01000100',\n",
       " '10000100',\n",
       " '00011000',\n",
       " '00101000',\n",
       " '01001000',\n",
       " '10001000',\n",
       " '00110000',\n",
       " '01010000',\n",
       " '10010000',\n",
       " '01100000',\n",
       " '10100000',\n",
       " '11000000']"
      ]
     },
     "execution_count": 7,
     "metadata": {},
     "output_type": "execute_result"
    }
   ],
   "source": [
    "from itertools import combinations\n",
    "\n",
    "def set_bits(bit_tuple):\n",
    "    bits = list(\"00000000\")\n",
    "    for bit_index in bit_tuple:\n",
    "        bits[int(bit_index)] = \"1\"\n",
    "    return \"\".join(bits)\n",
    "    \n",
    "\n",
    "all_combinations = [set_bits(comb) for comb in combinations('01234567', 2)]\n",
    "\n",
    "all_combinations\n"
   ]
  },
  {
   "cell_type": "code",
   "execution_count": 9,
   "metadata": {},
   "outputs": [
    {
     "ename": "SyntaxError",
     "evalue": "leading zeros in decimal integer literals are not permitted; use an 0o prefix for octal integers (1673651290.py, line 3)",
     "output_type": "error",
     "traceback": [
      "\u001b[0;36m  Cell \u001b[0;32mIn[9], line 3\u001b[0;36m\u001b[0m\n\u001b[0;31m    all_combinations = [(1 << i) | (1 << j):08b for i, j in combinations(range(8), 2)]\u001b[0m\n\u001b[0m                                            ^\u001b[0m\n\u001b[0;31mSyntaxError\u001b[0m\u001b[0;31m:\u001b[0m leading zeros in decimal integer literals are not permitted; use an 0o prefix for octal integers\n"
     ]
    }
   ],
   "source": [
    "from itertools import combinations\n",
    "\n",
    "all_combinations = [f\"{(1 << i) | (1 << j):08b}\" for i, j in combinations(range(8), 2)]\n",
    "\n",
    "all_combinations"
   ]
  }
 ],
 "metadata": {
  "kernelspec": {
   "display_name": "base",
   "language": "python",
   "name": "python3"
  },
  "language_info": {
   "codemirror_mode": {
    "name": "ipython",
    "version": 3
   },
   "file_extension": ".py",
   "mimetype": "text/x-python",
   "name": "python",
   "nbconvert_exporter": "python",
   "pygments_lexer": "ipython3",
   "version": "3.12.4"
  }
 },
 "nbformat": 4,
 "nbformat_minor": 2
}
