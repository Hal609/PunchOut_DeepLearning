{
 "cells": [
  {
   "cell_type": "code",
   "execution_count": 7,
   "metadata": {},
   "outputs": [
    {
     "data": {
      "text/plain": [
       "['00000011',\n",
       " '00000101',\n",
       " '00001001',\n",
       " '00010001',\n",
       " '00100001',\n",
       " '01000001',\n",
       " '10000001',\n",
       " '00000110',\n",
       " '00001010',\n",
       " '00010010',\n",
       " '00100010',\n",
       " '01000010',\n",
       " '10000010',\n",
       " '00001100',\n",
       " '00010100',\n",
       " '00100100',\n",
       " '01000100',\n",
       " '10000100',\n",
       " '00011000',\n",
       " '00101000',\n",
       " '01001000',\n",
       " '10001000',\n",
       " '00110000',\n",
       " '01010000',\n",
       " '10010000',\n",
       " '01100000',\n",
       " '10100000',\n",
       " '11000000']"
      ]
     },
     "execution_count": 7,
     "metadata": {},
     "output_type": "execute_result"
    }
   ],
   "source": [
    "from itertools import combinations\n",
    "\n",
    "def set_bits(bit_tuple):\n",
    "    bits = list(\"00000000\")\n",
    "    for bit_index in bit_tuple:\n",
    "        bits[int(bit_index)] = \"1\"\n",
    "    return \"\".join(bits)\n",
    "    \n",
    "\n",
    "all_combinations = [set_bits(comb) for comb in combinations('01234567', 2)]\n",
    "\n",
    "all_combinations\n"
   ]
  },
  {
   "cell_type": "code",
   "execution_count": 9,
   "metadata": {},
   "outputs": [
    {
     "ename": "SyntaxError",
     "evalue": "leading zeros in decimal integer literals are not permitted; use an 0o prefix for octal integers (1673651290.py, line 3)",
     "output_type": "error",
     "traceback": [
      "\u001b[0;36m  Cell \u001b[0;32mIn[9], line 3\u001b[0;36m\u001b[0m\n\u001b[0;31m    all_combinations = [(1 << i) | (1 << j):08b for i, j in combinations(range(8), 2)]\u001b[0m\n\u001b[0m                                            ^\u001b[0m\n\u001b[0;31mSyntaxError\u001b[0m\u001b[0;31m:\u001b[0m leading zeros in decimal integer literals are not permitted; use an 0o prefix for octal integers\n"
     ]
    }
   ],
   "source": [
    "from itertools import combinations\n",
    "\n",
    "all_combinations = [f\"{(1 << i) | (1 << j):08b}\" for i, j in combinations(range(8), 2)]\n",
    "\n",
    "all_combinations"
   ]
  },
  {
   "cell_type": "code",
   "execution_count": 3,
   "metadata": {},
   "outputs": [
    {
     "data": {
      "text/plain": [
       "False"
      ]
     },
     "execution_count": 3,
     "metadata": {},
     "output_type": "execute_result"
    }
   ],
   "source": [
    "import torch\n",
    "\n",
    "\n",
    "torch.cuda.is_available()"
   ]
  },
  {
   "cell_type": "code",
   "execution_count": 4,
   "metadata": {},
   "outputs": [
    {
     "name": "stdout",
     "output_type": "stream",
     "text": [
      "Debug Info: Iteration 25 completed.                                             \n",
      "Debug Info: Iteration 50 completed.                                             \n",
      "Debug Info: Iteration 75 completed.                                             \n",
      "Progress |████████████████████████████████--------| 80.00% Complete"
     ]
    },
    {
     "ename": "KeyboardInterrupt",
     "evalue": "",
     "output_type": "error",
     "traceback": [
      "\u001b[1;31m---------------------------------------------------------------------------\u001b[0m",
      "\u001b[1;31mKeyboardInterrupt\u001b[0m                         Traceback (most recent call last)",
      "Cell \u001b[1;32mIn[4], line 24\u001b[0m\n\u001b[0;32m     20\u001b[0m total_iterations \u001b[38;5;241m=\u001b[39m \u001b[38;5;241m100\u001b[39m\n\u001b[0;32m     22\u001b[0m \u001b[38;5;28;01mfor\u001b[39;00m i \u001b[38;5;129;01min\u001b[39;00m \u001b[38;5;28mrange\u001b[39m(total_iterations \u001b[38;5;241m+\u001b[39m \u001b[38;5;241m1\u001b[39m):\n\u001b[0;32m     23\u001b[0m     \u001b[38;5;66;03m# Simulate some work\u001b[39;00m\n\u001b[1;32m---> 24\u001b[0m     time\u001b[38;5;241m.\u001b[39msleep(\u001b[38;5;241m0.1\u001b[39m)\n\u001b[0;32m     26\u001b[0m     \u001b[38;5;66;03m# Update the progress bar\u001b[39;00m\n\u001b[0;32m     27\u001b[0m     print_progress_bar(i, total_iterations, prefix\u001b[38;5;241m=\u001b[39m\u001b[38;5;124m'\u001b[39m\u001b[38;5;124mProgress\u001b[39m\u001b[38;5;124m'\u001b[39m)\n",
      "\u001b[1;31mKeyboardInterrupt\u001b[0m: "
     ]
    }
   ],
   "source": [
    "import time\n",
    "import sys\n",
    "\n",
    "def print_progress_bar(iteration, total, prefix='', length=40, fill='█'):\n",
    "    \"\"\"Prints a progress bar that overwrites the previous one.\"\"\"\n",
    "    percent = (iteration / total) * 100\n",
    "    filled_length = int(length * iteration // total)\n",
    "    bar = fill * filled_length + '-' * (length - filled_length)\n",
    "    \n",
    "    # Print the progress bar\n",
    "    sys.stdout.write(f'\\r{prefix} |{bar}| {percent:.2f}% Complete')\n",
    "    sys.stdout.flush()\n",
    "\n",
    "def clear_progress_bar():\n",
    "    \"\"\"Clears the progress bar from the output.\"\"\"\n",
    "    sys.stdout.write('\\r' + ' ' * 80 + '\\r')  # Clear the line\n",
    "    sys.stdout.flush()\n",
    "\n",
    "# Example usage\n",
    "total_iterations = 100\n",
    "\n",
    "for i in range(total_iterations + 1):\n",
    "    # Simulate some work\n",
    "    time.sleep(0.1)\n",
    "    \n",
    "    # Update the progress bar\n",
    "    print_progress_bar(i, total_iterations, prefix='Progress')\n",
    "    \n",
    "    # Simulate occasional debug information\n",
    "    if i % 25 == 0 and i > 0:\n",
    "        clear_progress_bar()  # Clear the progress bar before printing debug info\n",
    "        print(f'Debug Info: Iteration {i} completed.')\n",
    "        time.sleep(1)  # Pause to observe debug info\n",
    "\n",
    "# Clear the final progress bar\n",
    "clear_progress_bar()\n",
    "print(\"Processing Complete!\")  # Final message\n"
   ]
  },
  {
   "cell_type": "code",
   "execution_count": 1,
   "metadata": {},
   "outputs": [],
   "source": [
    "debug_text = \"\\nTarget updated\\nTarget updated\\nLoss: 0.0\\nTarget updated\"\n",
    "\n",
    "text = \"Loss: 0.2\"\n",
    "\n",
    "loc = debug_text.find(text[:5])\n",
    "next_new_line = debug_text.find(\"\\n\", loc)\n",
    "if next_new_line == -1:\n",
    "    debug_text = debug_text[:loc-1] + \"\\n\" + text\n",
    "else:\n",
    "    debug_text = debug_text[:loc-1] + debug_text[next_new_line:] + \"\\n\" + text\n"
   ]
  },
  {
   "cell_type": "code",
   "execution_count": 4,
   "metadata": {},
   "outputs": [
    {
     "name": "stdout",
     "output_type": "stream",
     "text": [
      " Outputs/162541_10282024\n"
     ]
    }
   ],
   "source": [
    "import datetime\n",
    "import os\n",
    "import json\n",
    "\n",
    "output_folder = f' Outputs/{datetime.datetime.now().strftime(\"%H%M%S_%m%d%Y\")}'\n",
    "print(output_folder)\n",
    "os.makedirs(output_folder)\n",
    "os.makedirs(\"out\")\n",
    "\n",
    "# with open(output_folder + \"/paramters.json\", \"w\") as parameters_file:\n",
    "#     json.dump({\n",
    "#         \"Network_Structure\": [32, 32, 32],\n",
    "#         \"Learning Rate\": 0.2,\n",
    "#         \"Optimiser\": \"test\",\n",
    "#         \"Max Memory Size\": 100,\n",
    "#         \"Gamma\": 0.1,\n",
    "#         \"Epsilon0\": 1.0,\n",
    "#         \"Epsilon Decay Factor\": 0.995,\n",
    "#         \"Epsilon Min\": 0.05,\n",
    "#         \"Batch Size\": 64,\n",
    "#         \"Update Target Every\": 20\n",
    "#     }, parameters_file)"
   ]
  }
 ],
 "metadata": {
  "kernelspec": {
   "display_name": "base",
   "language": "python",
   "name": "python3"
  },
  "language_info": {
   "codemirror_mode": {
    "name": "ipython",
    "version": 3
   },
   "file_extension": ".py",
   "mimetype": "text/x-python",
   "name": "python",
   "nbconvert_exporter": "python",
   "pygments_lexer": "ipython3",
   "version": "3.12.7"
  }
 },
 "nbformat": 4,
 "nbformat_minor": 2
}
